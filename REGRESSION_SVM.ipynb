{
 "cells": [
  {
   "cell_type": "code",
   "execution_count": 5,
   "id": "d78ce0f9",
   "metadata": {},
   "outputs": [],
   "source": [
    "ead_csv(\"C:\\STUDENT.CSV\")import pandas as pd\n",
    "data=pd.r"
   ]
  },
  {
   "cell_type": "code",
   "execution_count": 2,
   "id": "d07397b0",
   "metadata": {},
   "outputs": [],
   "source": [
    "import pandas as pd\n",
    "data=pd.read_csv(\"C:\\BOOK1.csv\")"
   ]
  },
  {
   "cell_type": "code",
   "execution_count": 3,
   "id": "a703a664",
   "metadata": {},
   "outputs": [],
   "source": [
    "x=data.iloc[:,[2]].values\n",
    "y=data.iloc[:,12].values"
   ]
  },
  {
   "cell_type": "code",
   "execution_count": 4,
   "id": "427b12c4",
   "metadata": {},
   "outputs": [
    {
     "name": "stdout",
     "output_type": "stream",
     "text": [
      "[[   2.6]\n",
      " [   2. ]\n",
      " [   2.2]\n",
      " [   2.2]\n",
      " [   1.6]\n",
      " [   1.2]\n",
      " [   1.2]\n",
      " [   1. ]\n",
      " [   0.9]\n",
      " [   0.6]\n",
      " [-200. ]\n",
      " [   0.7]\n",
      " [   0.7]\n",
      " [   1.1]\n",
      " [   2. ]\n",
      " [   2.2]\n",
      " [   1.7]\n",
      " [   1.5]\n",
      " [   1.6]\n",
      " [   1.9]\n",
      " [   2.9]\n",
      " [   2.2]\n",
      " [   2.2]\n",
      " [   2.9]\n",
      " [   4.8]\n",
      " [   6.9]\n",
      " [   6.1]\n",
      " [   3.9]\n",
      " [   1.5]\n",
      " [   1. ]\n",
      " [   1.7]\n",
      " [   1.9]\n",
      " [   1.4]\n",
      " [   0.8]\n",
      " [-200. ]\n",
      " [   0.6]\n",
      " [   0.8]\n",
      " [   1.4]\n",
      " [   4.4]\n",
      " [-200. ]\n",
      " [   3.1]\n",
      " [   2.7]\n",
      " [   2.1]\n",
      " [   2.5]\n",
      " [   2.7]\n",
      " [   2.9]\n",
      " [   2.8]\n",
      " [   2.4]\n",
      " [   3.9]\n",
      " [   3.7]\n",
      " [   6.6]\n",
      " [   4.4]\n",
      " [   3.5]\n",
      " [   5.4]\n",
      " [   2.7]\n",
      " [   1.9]\n",
      " [   1.6]\n",
      " [   1.7]\n",
      " [-200. ]\n",
      " [   1. ]\n",
      " [   1.2]\n",
      " [   1.5]\n",
      " [   2.7]\n",
      " [   3.7]\n",
      " [   3.2]\n",
      " [   4.1]\n",
      " [   3.6]\n",
      " [   2.8]\n",
      " [   2. ]\n",
      " [   2. ]\n",
      " [   2.5]\n",
      " [   2.3]\n",
      " [   3.2]\n",
      " [   4.2]\n",
      " [   4.2]\n",
      " [   4.2]\n",
      " [   3.1]\n",
      " [   2.6]\n",
      " [   2.9]\n",
      " [   2.8]\n",
      " [   2.5]\n",
      " [   2.4]\n",
      " [-200. ]\n",
      " [   1.2]\n",
      " [   1. ]\n",
      " [   0.9]\n",
      " [   1.4]\n",
      " [   1.6]\n",
      " [   2.2]\n",
      " [   2.8]\n",
      " [   2.8]\n",
      " [   2. ]\n",
      " [   1.8]\n",
      " [   1.9]\n",
      " [   3. ]\n",
      " [   2.9]\n",
      " [   2.5]\n",
      " [   4.6]\n",
      " [   5.9]\n",
      " [   3.4]\n",
      " [   2.1]\n",
      " [   2.2]\n",
      " [   1.8]\n",
      " [   1.8]\n",
      " [   1.8]\n",
      " [   1.1]\n",
      " [-200. ]\n",
      " [   1. ]\n",
      " [   1.4]\n",
      " [   2.2]\n",
      " [   5.5]\n",
      " [   8.1]\n",
      " [   5.8]\n",
      " [   4.2]\n",
      " [   3.1]\n",
      " [   2.9]\n",
      " [   2.9]\n",
      " [   2.5]\n",
      " [   2.3]\n",
      " [   2.8]\n",
      " [   6.1]\n",
      " [   8. ]\n",
      " [   6.5]\n",
      " [   4.2]\n",
      " [   3.2]\n",
      " [   1.4]\n",
      " [   2.1]\n",
      " [   1.2]\n",
      " [   0.8]\n",
      " [   0.7]\n",
      " [-200. ]\n",
      " [   0.6]\n",
      " [   0.9]\n",
      " [   1.3]\n",
      " [   3.4]\n",
      " [   3.7]\n",
      " [   5.3]\n",
      " [   4.1]\n",
      " [   3.3]\n",
      " [   4. ]\n",
      " [   3.8]\n",
      " [   2.8]\n",
      " [   2.9]\n",
      " [   2.9]\n",
      " [   3.4]\n",
      " [   3.9]\n",
      " [   3.2]\n",
      " [   5.1]\n",
      " [   2.6]\n",
      " [   1.7]\n",
      " [   1.7]\n",
      " [   1.2]\n",
      " [   0.9]\n",
      " [   0.7]\n",
      " [-200. ]\n",
      " [   0.5]\n",
      " [   0.5]\n",
      " [   1.6]\n",
      " [   4.1]\n",
      " [   6.6]\n",
      " [   4.3]\n",
      " [   2.9]\n",
      " [   2.5]\n",
      " [   2.8]\n",
      " [   2.6]\n",
      " [   2. ]\n",
      " [   2.9]\n",
      " [   2.5]\n",
      " [   5. ]\n",
      " [   7.6]\n",
      " [   6.7]\n",
      " [   5.7]\n",
      " [   2.8]\n",
      " [   2.6]\n",
      " [   2.3]\n",
      " [   1.4]\n",
      " [   1. ]\n",
      " [   0.7]\n",
      " [-200. ]\n",
      " [   0.6]\n",
      " [   0.7]\n",
      " [   1.5]\n",
      " [   4.7]\n",
      " [   6.6]\n",
      " [   4.5]\n",
      " [   2.8]\n",
      " [   2.2]\n",
      " [   2.2]\n",
      " [   2.3]\n",
      " [   2.2]\n",
      " [   2.8]\n",
      " [   2.7]\n",
      " [   3.7]\n",
      " [   5.1]\n",
      " [   5.1]\n",
      " [   3.2]\n",
      " [   2.1]\n",
      " [   1.7]\n",
      " [   2. ]\n",
      " [   1.6]\n",
      " [   0.9]\n",
      " [   0.7]\n",
      " [-200. ]\n",
      " [   0.5]\n",
      " [   0.7]\n",
      " [   1.5]\n",
      " [   4.8]]\n",
      "[13.6 13.3 11.9 11.  11.2 11.2 11.3 10.7 10.7 10.3 10.1 11.  10.5 10.2\n",
      " 10.8 10.5 10.8 10.5  9.5  8.3  8.   8.3  9.7  9.8 10.3  9.7  9.6  9.1\n",
      "  8.2  8.2  8.3  7.7  7.1  7.   6.1  6.3  6.8  6.4  7.3  9.2 13.2 14.3\n",
      " 15.  16.1 16.3 15.8 15.9 16.9 15.1 14.4 12.9 12.1 11.   9.7  9.5  9.1\n",
      "  8.8  7.8  7.   8.3  7.2  6.3  6.5  9.6 12.4 15.6 18.4 19.4 18.  18.4\n",
      " 17.6 16.7 16.1 15.8 15.7 15.3 14.6 14.7 13.9 14.6 12.5 11.6 12.1 11.5\n",
      " 11.6 10.4 11.6 12.4 14.5 16.9 19.3 21.2 21.4 21.9 22.2 21.3 19.7 18.4\n",
      " 17.6 16.7 16.3 14.7 14.8 14.  13.4 12.6 12.3 11.9 11.4 11.3 12.4 14.8\n",
      " 17.4 19.8 22.  23.3 23.9 24.4 24.4 23.8 22.5 20.4 18.3 16.7 15.7 15.3\n",
      " 14.1 14.8 14.8 13.6 12.3 12.8 11.2 11.  11.7 13.6 17.8 21.4 24.4 25.3\n",
      " 25.8 27.  28.2 28.  23.9 21.3 20.4 19.  17.9 16.7 15.5 15.5 14.1 13.1\n",
      " 12.7 11.8 11.9  9.9 11.1 14.1 17.7 21.1 24.3 25.6 25.9 26.8 29.3 28.5\n",
      " 25.9 23.1 20.5 19.1 17.2 16.  14.8 14.3 14.8 13.9 11.6 12.  10.9 10.6\n",
      " 11.5 14.3 17.8 20.8 23.8 24.2 25.2 27.  27.1 25.8 23.  20.7 18.6 16.\n",
      " 14.5 13.1 12.  11.9 12.5 12.5 12.3 12.5 12.3 12.4 13. ]\n"
     ]
    }
   ],
   "source": [
    "print(x)\n",
    "print(y)"
   ]
  },
  {
   "cell_type": "code",
   "execution_count": 5,
   "id": "bd9a6042",
   "metadata": {},
   "outputs": [],
   "source": [
    "from sklearn.model_selection import train_test_split \n",
    "x_train, x_test, y_train, y_test = train_test_split(x, y, test_size=0.25, random_state=0)\n"
   ]
  },
  {
   "cell_type": "code",
   "execution_count": 6,
   "id": "472620e7",
   "metadata": {},
   "outputs": [
    {
     "data": {
      "text/html": [
       "<style>#sk-container-id-1 {color: black;background-color: white;}#sk-container-id-1 pre{padding: 0;}#sk-container-id-1 div.sk-toggleable {background-color: white;}#sk-container-id-1 label.sk-toggleable__label {cursor: pointer;display: block;width: 100%;margin-bottom: 0;padding: 0.3em;box-sizing: border-box;text-align: center;}#sk-container-id-1 label.sk-toggleable__label-arrow:before {content: \"▸\";float: left;margin-right: 0.25em;color: #696969;}#sk-container-id-1 label.sk-toggleable__label-arrow:hover:before {color: black;}#sk-container-id-1 div.sk-estimator:hover label.sk-toggleable__label-arrow:before {color: black;}#sk-container-id-1 div.sk-toggleable__content {max-height: 0;max-width: 0;overflow: hidden;text-align: left;background-color: #f0f8ff;}#sk-container-id-1 div.sk-toggleable__content pre {margin: 0.2em;color: black;border-radius: 0.25em;background-color: #f0f8ff;}#sk-container-id-1 input.sk-toggleable__control:checked~div.sk-toggleable__content {max-height: 200px;max-width: 100%;overflow: auto;}#sk-container-id-1 input.sk-toggleable__control:checked~label.sk-toggleable__label-arrow:before {content: \"▾\";}#sk-container-id-1 div.sk-estimator input.sk-toggleable__control:checked~label.sk-toggleable__label {background-color: #d4ebff;}#sk-container-id-1 div.sk-label input.sk-toggleable__control:checked~label.sk-toggleable__label {background-color: #d4ebff;}#sk-container-id-1 input.sk-hidden--visually {border: 0;clip: rect(1px 1px 1px 1px);clip: rect(1px, 1px, 1px, 1px);height: 1px;margin: -1px;overflow: hidden;padding: 0;position: absolute;width: 1px;}#sk-container-id-1 div.sk-estimator {font-family: monospace;background-color: #f0f8ff;border: 1px dotted black;border-radius: 0.25em;box-sizing: border-box;margin-bottom: 0.5em;}#sk-container-id-1 div.sk-estimator:hover {background-color: #d4ebff;}#sk-container-id-1 div.sk-parallel-item::after {content: \"\";width: 100%;border-bottom: 1px solid gray;flex-grow: 1;}#sk-container-id-1 div.sk-label:hover label.sk-toggleable__label {background-color: #d4ebff;}#sk-container-id-1 div.sk-serial::before {content: \"\";position: absolute;border-left: 1px solid gray;box-sizing: border-box;top: 0;bottom: 0;left: 50%;z-index: 0;}#sk-container-id-1 div.sk-serial {display: flex;flex-direction: column;align-items: center;background-color: white;padding-right: 0.2em;padding-left: 0.2em;position: relative;}#sk-container-id-1 div.sk-item {position: relative;z-index: 1;}#sk-container-id-1 div.sk-parallel {display: flex;align-items: stretch;justify-content: center;background-color: white;position: relative;}#sk-container-id-1 div.sk-item::before, #sk-container-id-1 div.sk-parallel-item::before {content: \"\";position: absolute;border-left: 1px solid gray;box-sizing: border-box;top: 0;bottom: 0;left: 50%;z-index: -1;}#sk-container-id-1 div.sk-parallel-item {display: flex;flex-direction: column;z-index: 1;position: relative;background-color: white;}#sk-container-id-1 div.sk-parallel-item:first-child::after {align-self: flex-end;width: 50%;}#sk-container-id-1 div.sk-parallel-item:last-child::after {align-self: flex-start;width: 50%;}#sk-container-id-1 div.sk-parallel-item:only-child::after {width: 0;}#sk-container-id-1 div.sk-dashed-wrapped {border: 1px dashed gray;margin: 0 0.4em 0.5em 0.4em;box-sizing: border-box;padding-bottom: 0.4em;background-color: white;}#sk-container-id-1 div.sk-label label {font-family: monospace;font-weight: bold;display: inline-block;line-height: 1.2em;}#sk-container-id-1 div.sk-label-container {text-align: center;}#sk-container-id-1 div.sk-container {/* jupyter's `normalize.less` sets `[hidden] { display: none; }` but bootstrap.min.css set `[hidden] { display: none !important; }` so we also need the `!important` here to be able to override the default hidden behavior on the sphinx rendered scikit-learn.org. See: https://github.com/scikit-learn/scikit-learn/issues/21755 */display: inline-block !important;position: relative;}#sk-container-id-1 div.sk-text-repr-fallback {display: none;}</style><div id=\"sk-container-id-1\" class=\"sk-top-container\"><div class=\"sk-text-repr-fallback\"><pre>SVR(kernel=&#x27;linear&#x27;)</pre><b>In a Jupyter environment, please rerun this cell to show the HTML representation or trust the notebook. <br />On GitHub, the HTML representation is unable to render, please try loading this page with nbviewer.org.</b></div><div class=\"sk-container\" hidden><div class=\"sk-item\"><div class=\"sk-estimator sk-toggleable\"><input class=\"sk-toggleable__control sk-hidden--visually\" id=\"sk-estimator-id-1\" type=\"checkbox\" checked><label for=\"sk-estimator-id-1\" class=\"sk-toggleable__label sk-toggleable__label-arrow\">SVR</label><div class=\"sk-toggleable__content\"><pre>SVR(kernel=&#x27;linear&#x27;)</pre></div></div></div></div></div>"
      ],
      "text/plain": [
       "SVR(kernel='linear')"
      ]
     },
     "execution_count": 6,
     "metadata": {},
     "output_type": "execute_result"
    }
   ],
   "source": [
    "from sklearn.svm import SVR\n",
    "classifier=SVR(kernel='linear')\n",
    "classifier.fit(x_train,y_train)\n"
   ]
  },
  {
   "cell_type": "code",
   "execution_count": 7,
   "id": "8f6a9f58",
   "metadata": {},
   "outputs": [],
   "source": [
    "y_predict=classifier.predict(x_test)"
   ]
  },
  {
   "cell_type": "code",
   "execution_count": 8,
   "id": "e6237808",
   "metadata": {},
   "outputs": [
    {
     "name": "stdout",
     "output_type": "stream",
     "text": [
      "[14.47045025 14.49260676 14.47168117 14.47660484 14.49260676 14.47660484\n",
      " 14.49753043 14.54184344 14.49629951 14.46921934 14.49753043 14.46798842\n",
      " 14.50491593 14.49014493 14.49260676 14.47906667 14.49506859 14.47906667\n",
      " 14.50614685 14.48152851 14.55538352 14.48891401 14.47414301 14.48522126\n",
      " 14.48399034 14.48152851 14.47906667 14.50122318 14.47045025 14.54307435\n",
      " 14.51353235 14.48029759 14.51230143 14.49014493 14.49629951 14.50368501\n",
      " 12.         14.49014493 14.48275942 14.50368501 14.50122318 14.48891401\n",
      " 14.48399034 14.5246106  14.48152851 14.51353235 14.50737776 14.49506859\n",
      " 14.50737776 14.47906667 14.53691977 14.48891401]\n"
     ]
    }
   ],
   "source": [
    "print(y_predict)"
   ]
  },
  {
   "cell_type": "code",
   "execution_count": 9,
   "id": "9d646b2f",
   "metadata": {},
   "outputs": [
    {
     "name": "stdout",
     "output_type": "stream",
     "text": [
      "[10.5 12.5  7.  11.2 24.3 11.5 23.9 18.3 19.3 12.8 15.8 11.8 11.  25.2\n",
      " 19.7 11.6 25.8  6.4 18.4  9.5 23.1 10.5 10.7  9.1 21.4  9.9 15.3 15.7\n",
      " 13.1 14.3 15.3 10.6 21.4 16.7 20.8 23.9 11.6 24.4 10.8 11.7 20.4  9.7\n",
      " 13.4 20.7 11.2 15.7 13.6 16.3  9.6 11.4  9.6 14.7]\n"
     ]
    }
   ],
   "source": [
    "print(y_test)"
   ]
  },
  {
   "cell_type": "code",
   "execution_count": 10,
   "id": "cf80677c",
   "metadata": {},
   "outputs": [
    {
     "name": "stdout",
     "output_type": "stream",
     "text": [
      "27.23307740406104\n",
      "R-squared (R2) score: -0.003226795849248454\n"
     ]
    }
   ],
   "source": [
    "from sklearn.metrics import mean_squared_error, r2_score\n",
    "mse = mean_squared_error(y_test, y_predict)\n",
    "print(mse)\n",
    "r2score = r2_score(y_test, y_predict)\n",
    "print(\"R-squared (R2) score:\", r2score)"
   ]
  },
  {
   "cell_type": "code",
   "execution_count": null,
   "id": "c031e93d",
   "metadata": {},
   "outputs": [],
   "source": []
  },
  {
   "cell_type": "code",
   "execution_count": null,
   "id": "89734711",
   "metadata": {},
   "outputs": [],
   "source": []
  }
 ],
 "metadata": {
  "kernelspec": {
   "display_name": "Python 3 (ipykernel)",
   "language": "python",
   "name": "python3"
  },
  "language_info": {
   "codemirror_mode": {
    "name": "ipython",
    "version": 3
   },
   "file_extension": ".py",
   "mimetype": "text/x-python",
   "name": "python",
   "nbconvert_exporter": "python",
   "pygments_lexer": "ipython3",
   "version": "3.11.3"
  }
 },
 "nbformat": 4,
 "nbformat_minor": 5
}
